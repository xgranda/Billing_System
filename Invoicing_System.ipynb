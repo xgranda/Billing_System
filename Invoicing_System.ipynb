{
 "cells": [
  {
   "cell_type": "markdown",
   "metadata": {},
   "source": [
    "# <center>INVOICING SYSTEM: Pt. 1</center>"
   ]
  },
  {
   "cell_type": "markdown",
   "metadata": {},
   "source": [
    "# <center>PRE INVOICE</center>"
   ]
  },
  {
   "cell_type": "markdown",
   "metadata": {},
   "source": [
    "# <center>Workflow</center>\n",
    "\n",
    "### 1. User will add data to an Excel file.\n",
    "### 2. Select Invoice Number\n",
    "### 3. Select Customer\n",
    "### 4. Type pallet numbers that will go on the invoice\n",
    "### 5. Pre Invoice work\n",
    "    5.1 Check for missing values\n",
    "    5.2 Add Manufacturers\n",
    "    5.3 Add HS Codes\n",
    "    5.4 Do the invoice\n",
    "### 6. Save Pre Invoice into an Excel file"
   ]
  },
  {
   "cell_type": "markdown",
   "metadata": {},
   "source": [
    "---"
   ]
  },
  {
   "cell_type": "code",
   "execution_count": 2,
   "metadata": {},
   "outputs": [],
   "source": [
    "import pandas as pd\n",
    "import re\n",
    "import datetime\n",
    "from openpyxl import load_workbook\n",
    "from openpyxl.styles import PatternFill, Border, Side, Alignment, Protection, Font\n",
    "from copy import copy"
   ]
  },
  {
   "cell_type": "markdown",
   "metadata": {},
   "source": [
    "# Functions to use"
   ]
  },
  {
   "cell_type": "code",
   "execution_count": 3,
   "metadata": {},
   "outputs": [],
   "source": [
    "'''\n",
    "CHECK IF IT'S STRING FUNCTION\n",
    "\n",
    "This function checks if the value of input are letters or numbers.\n",
    "If it's letters and numbers together it will count as a word and not a number.\n",
    "\n",
    "Purpose: Avoid crashing program by user's input\n",
    "'''\n",
    "def check_str(val):\n",
    "    while True:\n",
    "        try:\n",
    "            #Converts to float because if it can be converted to float, it can also be converted to integer\n",
    "            check1=float(val)\n",
    "            val=input(\"Please don't type a number - Try again: \")\n",
    "        except:\n",
    "            return val"
   ]
  },
  {
   "cell_type": "code",
   "execution_count": 4,
   "metadata": {},
   "outputs": [],
   "source": [
    "'''\n",
    "CHECK IF IT'S NUMBER FUNCTION\n",
    "\n",
    "This function checks if the value of input are numbers.\n",
    "If it's letters and numbers together it will count as a word and not a number.\n",
    "\n",
    "Purpose: Avoid crashing program by user's input\n",
    "'''\n",
    "def check_num(val):\n",
    "    while True:\n",
    "        try:\n",
    "            if val.lower()=='done':\n",
    "                return val.lower()\n",
    "            else:\n",
    "                #This works because you can't convert a str to an int\n",
    "                check1=int(val)\n",
    "                return val\n",
    "        except:\n",
    "            val=input(\"\\nPlease type a number - Try again: \")\n",
    "            pass"
   ]
  },
  {
   "cell_type": "code",
   "execution_count": 5,
   "metadata": {},
   "outputs": [],
   "source": [
    "'''\n",
    "Cell formatting - Taking format from previous cell and applying it to the cell below\n",
    "'''\n",
    "def format_cell(worksheet, cell):\n",
    "    prev_cell=cell.column_letter+str(cell.row-1)\n",
    "    cell_loc=worksheet[prev_cell]\n",
    "    cell.border=copy(cell_loc.border)\n",
    "    cell.alignment=copy(cell_loc.alignment)    \n",
    "    cell.number_format=copy(cell_loc.number_format)  "
   ]
  },
  {
   "cell_type": "code",
   "execution_count": 6,
   "metadata": {},
   "outputs": [],
   "source": [
    "'''\n",
    "TRANSFER VALUES TO WORKSHEET FUNCTION\n",
    "\n",
    "Function that will transfer all the information from the selected dataframe to the desired worksheet.\n",
    "And apply the format from the cell above.\n",
    "worksheet: Worksheet where information will be transfered\n",
    "df: dataframe to transfer to worksheet\n",
    "loc_x: Location on the X axis (letters)\n",
    "loc_y: Location on the Y axis (numbers)\n",
    "'''\n",
    "\n",
    "def pass_vals(worksheet, df, loc_x=1, loc_y=1):\n",
    "    for i in range(0,df.shape[0]):\n",
    "        loc_y=1\n",
    "        for j in range(0,df.shape[1]):\n",
    "            format_cell(worksheet, \\\n",
    "                        worksheet[worksheet.cell(row=loc_x, column=loc_y, value=df.iloc[i,j]).coordinate])\n",
    "            loc_y+=1\n",
    "        loc_x+=1"
   ]
  },
  {
   "cell_type": "code",
   "execution_count": 7,
   "metadata": {},
   "outputs": [],
   "source": [
    "'''\n",
    "CHECK FOR MISSING VALUES FUNCTION\n",
    "\n",
    "Checks for missing values - It helps user know if he needs to go back and modify information\n",
    "'''\n",
    "def check_miss(df):    \n",
    "    var=0\n",
    "    for cell in df:\n",
    "        if cell==None:\n",
    "            var+=1\n",
    "        else:\n",
    "            pass\n",
    "    return var"
   ]
  },
  {
   "cell_type": "markdown",
   "metadata": {},
   "source": [
    "### Load Pre Invoice template "
   ]
  },
  {
   "cell_type": "code",
   "execution_count": 52,
   "metadata": {},
   "outputs": [],
   "source": [
    "'''\n",
    "Asks where is the container being shipped and selects correct template\n",
    "Opens necessary files to get information from.\n",
    "    wb: loads invoice template workbook\n",
    "'''\n",
    "wb = load_workbook('Pre_Invoice_Template.xlsx')"
   ]
  },
  {
   "cell_type": "markdown",
   "metadata": {},
   "source": [
    "### Select Pre Invoice Number"
   ]
  },
  {
   "cell_type": "code",
   "execution_count": 53,
   "metadata": {},
   "outputs": [
    {
     "name": "stdout",
     "output_type": "stream",
     "text": [
      "Type Invoice Num: 4\n",
      "Pre Invoice No. will be: 4\n"
     ]
    }
   ],
   "source": [
    "\"\"\"\n",
    "Saving wb['worksheet_name'] to a variable that makes that worksheet active.\n",
    "ws_invoice: invoice worksheet\n",
    "\"\"\"\n",
    "#add worksheets to variables for future use\n",
    "ws_invoice=wb['invoice']\n",
    "\n",
    "'''\n",
    "User inputs invoice number and it is written on invoice template\n",
    "invoice_num: variable for invoice number\n",
    "t_date: today's date\n",
    "'''\n",
    "#Adding today's date to invoice and packing list\n",
    "d=datetime.datetime.today()\n",
    "t_date=str(d.month)+'/'+str(d.day)+'/'+str(d.year)\n",
    "ws_invoice.cell(row=2, column=9, value=t_date)\n",
    "\n",
    "invoice_num=check_num(input('Type Invoice Num: '))\n",
    "#invoice number is assigned to cell in invoice template and packing list\n",
    "ws_invoice.cell(row=1, column=9, value=invoice_num)\n",
    "print(\"Pre Invoice No. will be:\", invoice_num)"
   ]
  },
  {
   "cell_type": "markdown",
   "metadata": {},
   "source": [
    "### Select Customer"
   ]
  },
  {
   "cell_type": "code",
   "execution_count": 54,
   "metadata": {},
   "outputs": [
    {
     "name": "stdout",
     "output_type": "stream",
     "text": [
      "Type the customer's code: spare\n",
      "Customer spare found...\n",
      "...Transferring information...\n",
      "...Information transferred\n"
     ]
    }
   ],
   "source": [
    "'''\n",
    "Select and add customer to invoice from customers database\n",
    "    1. Computer asks for the customer's name\n",
    "    2. It has to look on a different file if customer exists in the database\n",
    "        2.1. If customer exists, add it's information to the invoice\n",
    "            2.1.1 Create variables that will go in each part of the invoice\n",
    "            2.1.2 Assign values to each variable\n",
    "            2.1.3 Add variables to invoice\n",
    "        2.2. If it doesn't exist, try again. Type 'exit' to exit prompt\n",
    "    \n",
    "cust_database: loads customers database workbook\n",
    "'''\n",
    "\n",
    "cust_database = load_workbook('Customer_database.xlsx')\n",
    "ws_cust=cust_database.active\n",
    "\n",
    "while True:\n",
    "    cust_name=input(\"Type the customer's code: \")\n",
    "    for cust_search in ws_cust.iter_rows(min_row=1, max_col=8, values_only=True): #iterates over column on different file\n",
    "        cust_code=re.search(\"^({})$\".format(cust_name.lower()), str(cust_search[0]).lower()) !=None #regex expression to look in other file for customer code\n",
    "        if cust_code==False:\n",
    "            pass\n",
    "        else:\n",
    "            print('Customer',cust_name,'found...')\n",
    "            # Assign values to each variable\n",
    "            name=cust_search[1]\n",
    "            address=cust_search[2]\n",
    "            city=cust_search[3]\n",
    "            phone=cust_search[4]\n",
    "            fax=cust_search[5]\n",
    "            email=cust_search[6]\n",
    "            terms=cust_search[7]\n",
    "            print('...Transferring information...')\n",
    "\n",
    "            #Insert variables in invoice\n",
    "            ws_invoice.cell(row=2, column=2, value=name)\n",
    "            ws_invoice.cell(row=3, column=2, value=address)\n",
    "            ws_invoice.cell(row=4, column=2, value=city)\n",
    "            ws_invoice.cell(row=5, column=2, value=phone)\n",
    "            ws_invoice.cell(row=6, column=2, value=fax)\n",
    "            ws_invoice.cell(row=7, column=2, value=email)\n",
    "            ws_invoice.cell(row=9, column=2, value=terms)\n",
    "\n",
    "            print('...Information transferred')\n",
    "            cust_name='exit'\n",
    "\n",
    "    if cust_name=='exit':\n",
    "        break\n",
    "    else:\n",
    "        print('Customer code not found - Try again\\n Type \"exit\" to close')"
   ]
  },
  {
   "cell_type": "markdown",
   "metadata": {},
   "source": [
    "# Prepare Pre Invoice "
   ]
  },
  {
   "cell_type": "markdown",
   "metadata": {},
   "source": [
    "### Get data"
   ]
  },
  {
   "cell_type": "code",
   "execution_count": 55,
   "metadata": {},
   "outputs": [],
   "source": [
    "'''\n",
    "wb_rec: Workbook with all the information to transfer to invoice\n",
    "info: Empty dataframe where all the information is\n",
    "shipment: Empty dataframe that has all the skids that will be shipped\n",
    "skid_list: Dictionary that will be populated with used skids, weight and dimension for each skid.\n",
    "    It's purpose is not to have duplicated skids by comparing what's inside the list with the \n",
    "    inputed numbers, and store information to make the packing list later on.\n",
    "'''\n",
    "wb_rec = load_workbook('rec_2.xlsx')\n",
    "wb_rec=wb_rec.active\n",
    "shipment=pd.DataFrame()\n",
    "skid_list=set([])\n",
    "skid_dict={}"
   ]
  },
  {
   "cell_type": "code",
   "execution_count": 56,
   "metadata": {},
   "outputs": [],
   "source": [
    "#Create list of unique skid numbers available in shipment\n",
    "for row in wb_rec.iter_rows(min_row=1, max_col=17, values_only=True):\n",
    "    skid_list.add(row[2])"
   ]
  },
  {
   "cell_type": "code",
   "execution_count": 57,
   "metadata": {},
   "outputs": [
    {
     "name": "stdout",
     "output_type": "stream",
     "text": [
      "\n",
      "Type 'done' when finished\n",
      "\n",
      "Type the skid number: 1\n",
      "\n",
      "Type 'done' when finished\n",
      "\n",
      "Type the skid number: 2\n",
      "\n",
      "Type 'done' when finished\n",
      "\n",
      "Type the skid number: 3\n",
      "\n",
      "Type 'done' when finished\n",
      "\n",
      "Type the skid number: 4\n",
      "\n",
      "Type 'done' when finished\n",
      "\n",
      "Type the skid number: 5\n",
      "\n",
      "Type 'done' when finished\n",
      "\n",
      "Type the skid number: 6\n",
      "\n",
      "Type 'done' when finished\n",
      "\n",
      "Type the skid number: 7\n",
      "\n",
      "Type 'done' when finished\n",
      "\n",
      "Type the skid number: 8\n",
      "\n",
      "Type 'done' when finished\n",
      "\n",
      "Type the skid number: done\n",
      "Finished\n"
     ]
    }
   ],
   "source": [
    "'''\n",
    "User get's asked for skid number and it is checked if it exists or if it has already been selected\n",
    "and it raises an error if it does. Otherwise, it adds the information to the working dataframe\n",
    "'''\n",
    "\n",
    "while True:\n",
    "    print(\"\\nType 'done' when finished\")\n",
    "    skid_num=check_num(input(\"\\nType the skid number: \"))\n",
    "    if skid_num!='done' and skid_num not in skid_dict and int(skid_num) in skid_list:\n",
    "        for row in wb_rec.iter_rows(min_row=1, max_col=17, values_only=True):\n",
    "            if int(skid_num)==row[2]:\n",
    "                shipment=shipment.append(pd.Series(list(row)), ignore_index=True)\n",
    "                skid_dict[skid_num]={}\n",
    "            else:\n",
    "                pass\n",
    "    elif skid_num=='done':\n",
    "        print('Finished')\n",
    "        break\n",
    "    elif skid_num in skid_dict:\n",
    "        print('\\n***You already picked this skid***')\n",
    "    elif int(skid_num) not in skid_list:\n",
    "        print('\\n***Skid number',skid_num,\"doesn't exist***\")\n",
    "        print('***Try again***')\n",
    "    else:\n",
    "        pass"
   ]
  },
  {
   "cell_type": "markdown",
   "metadata": {},
   "source": [
    "### Check if there are missing values in user's inputed information"
   ]
  },
  {
   "cell_type": "code",
   "execution_count": 58,
   "metadata": {},
   "outputs": [
    {
     "name": "stdout",
     "output_type": "stream",
     "text": [
      "***There are 0 HS Codes missing*** - PLEASE FIX THIS ISSUE\n",
      "***There are 0 Country of Origin codes missing*** - PLEASE FIX THIS ISSUE\n"
     ]
    }
   ],
   "source": [
    "print('***There are {} HS Codes missing*** - PLEASE FIX THIS ISSUE'.format(check_miss(shipment[13])))\n",
    "print('***There are {} Country of Origin codes missing*** - PLEASE FIX THIS ISSUE'.format(check_miss(shipment[14])))"
   ]
  },
  {
   "cell_type": "markdown",
   "metadata": {},
   "source": [
    "### Add Manufacturer"
   ]
  },
  {
   "cell_type": "code",
   "execution_count": 59,
   "metadata": {},
   "outputs": [],
   "source": [
    "'''\n",
    "Search through dataframe and compare if the order starts with NB, if it does go to the next line.\n",
    "If it's different look through each part number to determine the manufacturer. Pick the manufacturer depending\n",
    "on the content of the part number.\n",
    "\n",
    "It also tells the user if there are empty manufacturer cells.\n",
    "'''\n",
    "jerani=['A','B','C','D']\n",
    "#Add manufacturer to dataframe (column 12)\n",
    "for i,row in enumerate(shipment[0]):\n",
    "    #shipment[0] has a type of object, need to convert everything to string because of nature of data\n",
    "    if ((re.search('^N{}'.format(jerani), str(row))!=None)==True):\n",
    "        pass\n",
    "    else:\n",
    "        #shipment[5] has a type of object, need to convert everything to string because of nature of data\n",
    "        if (re.search('[a-zA-Z]|-', str(shipment.iloc[i,5]))):\n",
    "            shipment.iloc[i,12]='AcDelco'\n",
    "        else:\n",
    "            shipment.iloc[i,12]='GM'\n",
    "\n",
    "#Checks for empty cells to tell the user there is missing information\n",
    "if check_miss(shipment[12])!=0:\n",
    "    print('There are {} empty Manufacturer cells - PLEASE FIX THIS ISSUE'.format(check_miss(shipment[12])))\n",
    "else:\n",
    "    pass\n"
   ]
  },
  {
   "cell_type": "markdown",
   "metadata": {},
   "source": [
    "### Add HS Codes"
   ]
  },
  {
   "cell_type": "code",
   "execution_count": 60,
   "metadata": {},
   "outputs": [],
   "source": [
    "#Add HS Codes to dataframe (column 13)"
   ]
  },
  {
   "cell_type": "code",
   "execution_count": null,
   "metadata": {},
   "outputs": [],
   "source": []
  },
  {
   "cell_type": "markdown",
   "metadata": {},
   "source": [
    "### Worksheet Data"
   ]
  },
  {
   "cell_type": "code",
   "execution_count": 61,
   "metadata": {},
   "outputs": [],
   "source": [
    "'''\n",
    "Change type of columns - to ensure everything has the same type and the program doesn't \n",
    "confuse labels because of their types.\n",
    "'''\n",
    "shipment[1]=shipment[1].astype(str)\n",
    "shipment[2]=shipment[2].astype(int)\n",
    "shipment[3]=shipment[3].astype(int)\n",
    "shipment[4]=shipment[4].astype(int)\n",
    "shipment[5]=shipment[5].astype(str)\n",
    "shipment[7]=shipment[7].astype(str)\n",
    "shipment[8]=shipment[8].astype(str)\n",
    "shipment[13]=shipment[13].astype(str)"
   ]
  },
  {
   "cell_type": "markdown",
   "metadata": {},
   "source": [
    "### Invoice Section"
   ]
  },
  {
   "cell_type": "code",
   "execution_count": 76,
   "metadata": {},
   "outputs": [],
   "source": [
    "#Add total price for each part number\n",
    "total_vals=shipment[15]*shipment[4]\n",
    "shipment[16]=total_vals\n",
    "\n",
    "'''\n",
    "Combine total quantity for each part number and order to get a summarised table based on order number,\n",
    "part number and price.\n",
    "'''\n",
    "\n",
    "total_quantity=shipment.groupby([8,5,15], as_index=False)[4].sum()\n",
    "\n",
    "\n",
    "'''\n",
    "Shipment dataframe is grouped by order number and part number to combine duplicate values, the index is \n",
    "returned to get the summarized information from that particular order and part number.\n",
    "The index will be passed to the original shipment dataframe and it will return the rows with the information\n",
    "pointing to the unique rows.\n",
    "'''\n",
    "invoice_elem=shipment.loc[shipment.groupby([8,5,15], as_index=False)[4].idxmax()]\n",
    "#Assign new elements to quantity, if not assigned, dataframe was taking original values and not the updated ones\n",
    "invoice_elem[4]=list(total_quantity[4])\n",
    "\n",
    "\n",
    "'''\n",
    "final_invoice: Merge total_quantity dataframe to invoice_elem to get a dataframe with \n",
    "    the total quantities and all the information\n",
    "\n",
    "invoice_pt1: Is a dataframe that will contain the processed information - merge invoice_elem and total_quantity\n",
    "packing_list: Is a dataframe that has the summarised information regarding the packing list\n",
    "'''\n",
    "invoice_pt1=invoice_elem.merge(total_quantity)\n",
    "\n",
    "# #Convert total quantities and line number to integer type\n",
    "invoice_pt1[4]=invoice_pt1[4].astype(int)\n",
    "invoice_pt1[3]=invoice_pt1[3].astype(int)\n",
    "invoice_pt1[13]=invoice_pt1[13].astype(str)\n",
    "\n",
    "# #Select columns that will go to the final invoice \n",
    "final_invoice=invoice_pt1.loc[:,[3,4,5,6,8,12,13,14,15,16]]\n",
    "t_val=final_invoice[15]*final_invoice[4]\n",
    "final_invoice[16]=t_val\n",
    "    \n",
    "#Paste Final Values on Invoice\n",
    "t_m1=ws_invoice.cell(row=final_invoice.shape[0]+20,column=9,value='Total merchandise')\n",
    "t_m1.alignment=Alignment(horizontal='right')\n",
    "\n",
    "t_m1_val=ws_invoice.cell(row=final_invoice.shape[0]+20,column=10,value=sum(final_invoice[16]))\n",
    "t_m1_val.font=Font(bold=True)\n",
    "t_m1_val.number_format=copy(ws_invoice['J19'].number_format)\n",
    "\n",
    "t_m2=ws_invoice.cell(row=final_invoice.shape[0]+21,column=9,\\\n",
    "                value='Forwarding, packing, pier delivery, documentation & Insurance')\n",
    "t_m2.alignment=Alignment(horizontal='right')\n",
    "\n",
    "\n",
    "t_m3=ws_invoice.cell(row=final_invoice.shape[0]+22,column=9,value='Final Total FOB Port of New York USA')\n",
    "t_m3.alignment=Alignment(horizontal='right')\n",
    "\n",
    "\n",
    "for i in range(1,10):\n",
    "    ws_invoice[ws_invoice.cell(row=final_invoice.shape[0]+19,column=i).coordinate].border=\\\n",
    "    Border(bottom=Side(style='hair'), left=Side(style='hair'))\n",
    "\n",
    "for i in range(0,4):\n",
    "    ws_invoice[ws_invoice.cell(row=final_invoice.shape[0]+19+i,column=10).coordinate].border=\\\n",
    "        Border(bottom=Side(style='hair'), left=Side(style='double'), right=Side(style='thin'))\n",
    "\n",
    "#Transfer Invoice information\n",
    "pass_vals(ws_invoice, final_invoice, loc_x=19, loc_y=1)"
   ]
  },
  {
   "cell_type": "markdown",
   "metadata": {},
   "source": [
    "### Save File"
   ]
  },
  {
   "cell_type": "code",
   "execution_count": 77,
   "metadata": {},
   "outputs": [],
   "source": [
    "'''\n",
    "Save file in specified path.\n",
    "If no path is passed, it will be saved in working directory.\n",
    "Last portion of path is the document's name - in this case it will be replaced with the invoice number\n",
    "\n",
    "**.format(invoice_num) - will replace the {} in the path with the invoice number**\n",
    "'''\n",
    "\n",
    "#Save file\n",
    "wb.save('/Users/Xavier/Desktop/Pre_Invoice_{}.xlsx'.format(invoice_num))"
   ]
  },
  {
   "cell_type": "code",
   "execution_count": null,
   "metadata": {},
   "outputs": [],
   "source": []
  }
 ],
 "metadata": {
  "kernelspec": {
   "display_name": "Python 3",
   "language": "python",
   "name": "python3"
  },
  "language_info": {
   "codemirror_mode": {
    "name": "ipython",
    "version": 3
   },
   "file_extension": ".py",
   "mimetype": "text/x-python",
   "name": "python",
   "nbconvert_exporter": "python",
   "pygments_lexer": "ipython3",
   "version": "3.7.3"
  }
 },
 "nbformat": 4,
 "nbformat_minor": 2
}
